{
 "cells": [
  {
   "cell_type": "code",
   "execution_count": 2,
   "metadata": {},
   "outputs": [],
   "source": [
    "import numpy as np\n",
    "from sklearn.datasets import make_classification\n",
    "import pandas as pd\n",
    "import matplotlib.pyplot as plt"
   ]
  },
  {
   "cell_type": "code",
   "execution_count": 66,
   "metadata": {},
   "outputs": [
    {
     "name": "stdout",
     "output_type": "stream",
     "text": [
      "(4, 112) (4, 38) (112,) (38,)\n"
     ]
    }
   ],
   "source": [
    "from sklearn import datasets\n",
    "from sklearn.preprocessing import StandardScaler\n",
    "from sklearn.model_selection import train_test_split\n",
    "\n",
    "iris = datasets.load_iris()\n",
    "X_train, X_test, y_train, y_test = train_test_split(iris[\"data\"], iris[\"target\"])\n",
    "scaler = StandardScaler()\n",
    "X_train = scaler.fit_transform(X_train).T\n",
    "X_test = scaler.transform(X_test).T\n",
    "y_train = (y_train == 0).astype(np.int64)\n",
    "y_test = (y_test == 0).astype(np.int64)\n",
    "print(X_train.shape, X_test.shape, y_train.shape, y_test.shape)"
   ]
  },
  {
   "cell_type": "code",
   "execution_count": 67,
   "metadata": {},
   "outputs": [],
   "source": [
    "# new grad func\n",
    "def calcLoss(actual, pred):\n",
    "    return - actual / pred + (1 - actual) / (actual - pred)\n",
    "\n",
    "def sigmoid(z):\n",
    "    return 1 / (1 + np.exp(-z))\n",
    "\n",
    "def calcGrad(actual, pred):\n",
    "    return pred - actual\n",
    "\n",
    "# try building a general network\n",
    "class NetLayer:\n",
    "\n",
    "    def __init__(self, input_dim, output_dim, activation_func, keep_prob = 1):\n",
    "        # note weight dimensions are reversed from typical nnet specs\n",
    "        self.w = np.random.randn(input_dim, output_dim)\n",
    "        self.b = np.random.randn(output_dim, 1)\n",
    "        self.activation_func = activation_func\n",
    "        # value for dropout - default 1 for no dropout\n",
    "        self.keep_prob = keep_prob\n",
    "\n",
    "    def forward(self, X, train = True):\n",
    "        # record activations\n",
    "        self.A_L_minus_one = X.copy()\n",
    "        if train:\n",
    "            dropout_mat = np.random.rand(X.shape[0], X.shape[1]) < self.keep_prob\n",
    "            A = np.multiply(dropout_mat, X) / self.keep_prob\n",
    "        else:\n",
    "            A = X\n",
    "        self.A_L = self.activation_func(np.dot(self.w.T, A) + self.b)\n",
    "        # pass activation to next layer\n",
    "        return self.A_L.copy()\n",
    "\n",
    "    def backward(self, da, m):\n",
    "        dz = da * self.A_L * (1 - self.A_L)\n",
    "        da = np.dot(self.w, dz)\n",
    "        dw = np.dot(dz, self.A_L_minus_one.T) / m\n",
    "        db = np.sum(dz, axis = 1, keepdims= True) / m\n",
    "        return da, dw, db\n",
    "\n",
    "    def update_weights(self, new_weights, new_bias):\n",
    "\n",
    "        self.w += new_weights\n",
    "        self.b += new_bias\n",
    "\n",
    "class NeuralNetwork:\n",
    "    \n",
    "    def __init__(self, layers):\n",
    "        self.layers = layers\n",
    "\n",
    "    def forward(self, X, train = True):\n",
    "        for L in self.layers:\n",
    "            X = L.forward(X, train = train)\n",
    "        return X\n",
    "\n",
    "    def train(self, X, y, epochs = 1, learning_rate = 0.01, batch_size = 150, lambd = 0):\n",
    "\n",
    "        # record training errors\n",
    "        errors = {}\n",
    "\n",
    "        for i in range(epochs):\n",
    "            # get a random batch sample\n",
    "            if batch_size < X.shape[1]:\n",
    "                samps = [np.random.randint(X.shape[1]) for i in range(batch_size)]\n",
    "                y_actual = y[samps]\n",
    "                A = X[:,samps].copy()\n",
    "            else:\n",
    "                A = X.copy()\n",
    "                y_actual = y\n",
    "            \n",
    "            # forward pass\n",
    "            A = self.forward(A)\n",
    "\n",
    "            # calc the error\n",
    "            da = calcGrad(y_actual, A) \n",
    "\n",
    "            errors[i] = np.sum(da) \n",
    "\n",
    "            # back prop\n",
    "            for j in range(len(self.layers) - 1, -1, -1):\n",
    "                current_layer = self.layers[j]\n",
    "                da, dw, db = current_layer.backward(da, batch_size)\n",
    "                ### convert dimensions back using transpose because of our convention - (input_dim, output_dim)\n",
    "                update_w = - learning_rate * dw.T \n",
    "                update_b = - learning_rate * db\n",
    "                current_layer.update_weights(update_w, update_b)\n",
    "        return errors\n",
    "\n",
    "    def predict(self, X):\n",
    "        # forward pass\n",
    "        A = self.forward(X, train = False)\n",
    "        return A\n",
    "\n"
   ]
  },
  {
   "cell_type": "code",
   "execution_count": 113,
   "metadata": {},
   "outputs": [
    {
     "data": {
      "text/plain": [
       "<AxesSubplot:>"
      ]
     },
     "execution_count": 113,
     "metadata": {},
     "output_type": "execute_result"
    },
    {
     "data": {
      "image/png": "[encoded data removed]",
      "text/plain": [
       "<Figure size 432x288 with 1 Axes>"
      ]
     },
     "metadata": {
      "needs_background": "light"
     },
     "output_type": "display_data"
    }
   ],
   "source": [
    "layer1 = NetLayer(4, 3, sigmoid)\n",
    "layer2 = NetLayer(3, 3, sigmoid)\n",
    "layer3 = NetLayer(3, 1, sigmoid)\n",
    "\n",
    "layers = [\n",
    "    layer1,\n",
    "    #layer2,\n",
    "    layer3\n",
    "]\n",
    "\n",
    "net = NeuralNetwork(layers)\n",
    "\n",
    "\n",
    "results = net.train(X_train, y_train, batch_size = 110, epochs =750, learning_rate=0.01)\n",
    "\n",
    "# check that cost function is converging\n",
    "pd.Series(results).plot()"
   ]
  },
  {
   "cell_type": "code",
   "execution_count": 114,
   "metadata": {},
   "outputs": [
    {
     "data": {
      "image/png": "[encoded data removed]",
      "text/plain": [
       "<Figure size 432x288 with 2 Axes>"
      ]
     },
     "metadata": {
      "needs_background": "light"
     },
     "output_type": "display_data"
    }
   ],
   "source": [
    "preds = np.round(net.predict(X_test))\n",
    "fig, ax = plt.subplots(1,2)\n",
    "\n",
    "# check how well our predictions match the truth\n",
    "# note just training set - just checking that our model does work as we expect, not generalisability\n",
    "ax[0].scatter(X_test[0,:], X_test[1,:], c = y_test)\n",
    "ax[1].scatter(X_test[0,:], X_test[1,:], c = preds);"
   ]
  },
  {
   "cell_type": "code",
   "execution_count": 24,
   "metadata": {},
   "outputs": [
    {
     "data": {
      "text/plain": [
       "array([[ True,  True,  True,  True,  True,  True,  True,  True,  True,\n",
       "         True,  True,  True,  True,  True,  True,  True,  True,  True,\n",
       "         True,  True,  True,  True,  True,  True,  True,  True,  True,\n",
       "         True,  True,  True,  True,  True,  True,  True,  True,  True,\n",
       "         True,  True,  True,  True,  True,  True,  True,  True,  True,\n",
       "         True,  True,  True,  True,  True,  True,  True,  True,  True,\n",
       "         True,  True,  True,  True,  True,  True,  True,  True,  True,\n",
       "         True,  True,  True,  True,  True,  True,  True,  True,  True,\n",
       "         True,  True,  True,  True,  True,  True,  True,  True,  True,\n",
       "         True,  True,  True,  True,  True,  True,  True,  True,  True,\n",
       "         True,  True,  True,  True,  True,  True,  True,  True,  True,\n",
       "         True,  True,  True,  True,  True,  True,  True,  True,  True,\n",
       "         True,  True,  True,  True,  True,  True,  True,  True,  True,\n",
       "         True,  True,  True,  True,  True,  True,  True,  True,  True,\n",
       "         True,  True,  True,  True,  True,  True,  True,  True,  True,\n",
       "         True,  True,  True,  True,  True,  True,  True,  True,  True,\n",
       "         True,  True,  True,  True,  True,  True],\n",
       "       [ True,  True,  True,  True,  True,  True,  True,  True,  True,\n",
       "         True,  True,  True,  True,  True,  True,  True,  True,  True,\n",
       "         True,  True,  True,  True,  True,  True,  True,  True,  True,\n",
       "         True,  True,  True,  True,  True,  True,  True,  True,  True,\n",
       "         True,  True,  True,  True,  True,  True,  True,  True,  True,\n",
       "         True,  True,  True,  True,  True,  True,  True,  True,  True,\n",
       "         True,  True,  True,  True,  True,  True,  True,  True,  True,\n",
       "         True,  True,  True,  True,  True,  True,  True,  True,  True,\n",
       "         True,  True,  True,  True,  True,  True,  True,  True,  True,\n",
       "         True,  True,  True,  True,  True,  True,  True,  True,  True,\n",
       "         True,  True,  True,  True,  True,  True,  True,  True,  True,\n",
       "         True,  True,  True,  True,  True,  True,  True,  True,  True,\n",
       "         True,  True,  True,  True,  True,  True,  True,  True,  True,\n",
       "         True,  True,  True,  True,  True,  True,  True,  True,  True,\n",
       "         True,  True,  True,  True,  True,  True,  True,  True,  True,\n",
       "         True,  True,  True,  True,  True,  True,  True,  True,  True,\n",
       "         True,  True,  True,  True,  True,  True],\n",
       "       [ True,  True,  True,  True,  True,  True,  True,  True,  True,\n",
       "         True,  True,  True,  True,  True,  True,  True,  True,  True,\n",
       "         True,  True,  True,  True,  True,  True,  True,  True,  True,\n",
       "         True,  True,  True,  True,  True,  True,  True,  True,  True,\n",
       "         True,  True,  True,  True,  True,  True,  True,  True,  True,\n",
       "         True,  True,  True,  True,  True,  True,  True,  True,  True,\n",
       "         True,  True,  True,  True,  True,  True,  True,  True,  True,\n",
       "         True,  True,  True,  True,  True,  True,  True,  True,  True,\n",
       "         True,  True,  True,  True,  True,  True,  True,  True,  True,\n",
       "         True,  True,  True,  True,  True,  True,  True,  True,  True,\n",
       "         True,  True,  True,  True,  True,  True,  True,  True,  True,\n",
       "         True,  True,  True,  True,  True,  True,  True,  True,  True,\n",
       "         True,  True,  True,  True,  True,  True,  True,  True,  True,\n",
       "         True,  True,  True,  True,  True,  True,  True,  True,  True,\n",
       "         True,  True,  True,  True,  True,  True,  True,  True,  True,\n",
       "         True,  True,  True,  True,  True,  True,  True,  True,  True,\n",
       "         True,  True,  True,  True,  True,  True],\n",
       "       [ True,  True,  True,  True,  True,  True,  True,  True,  True,\n",
       "         True,  True,  True,  True,  True,  True,  True,  True,  True,\n",
       "         True,  True,  True,  True,  True,  True,  True,  True,  True,\n",
       "         True,  True,  True,  True,  True,  True,  True,  True,  True,\n",
       "         True,  True,  True,  True,  True,  True,  True,  True,  True,\n",
       "         True,  True,  True,  True,  True,  True,  True,  True,  True,\n",
       "         True,  True,  True,  True,  True,  True,  True,  True,  True,\n",
       "         True,  True,  True,  True,  True,  True,  True,  True,  True,\n",
       "         True,  True,  True,  True,  True,  True,  True,  True,  True,\n",
       "         True,  True,  True,  True,  True,  True,  True,  True,  True,\n",
       "         True,  True,  True,  True,  True,  True,  True,  True,  True,\n",
       "         True,  True,  True,  True,  True,  True,  True,  True,  True,\n",
       "         True,  True,  True,  True,  True,  True,  True,  True,  True,\n",
       "         True,  True,  True,  True,  True,  True,  True,  True,  True,\n",
       "         True,  True,  True,  True,  True,  True,  True,  True,  True,\n",
       "         True,  True,  True,  True,  True,  True,  True,  True,  True,\n",
       "         True,  True,  True,  True,  True,  True]])"
      ]
     },
     "execution_count": 24,
     "metadata": {},
     "output_type": "execute_result"
    }
   ],
   "source": [
    "# get the dropout matrix\n",
    "keep_prob = 1\n",
    "\n",
    "d = np.random.rand(X.shape[0], X.shape[1]) < keep_prob\n",
    "\n",
    "X == np.multiply(X, d)\n"
   ]
  }
 ],
 "metadata": {
  "kernelspec": {
   "display_name": "Python 3.9.7",
   "language": "python",
   "name": "python3"
  },
  "language_info": {
   "codemirror_mode": {
    "name": "ipython",
    "version": 3
   },
   "file_extension": ".py",
   "mimetype": "text/x-python",
   "name": "python",
   "nbconvert_exporter": "python",
   "pygments_lexer": "ipython3",
   "version": "3.9.7"
  },
  "orig_nbformat": 4,
  "vscode": {
   "interpreter": {
    "hash": "35643e8013a8986bd707b2979c5c936bcf5bc6379996007802b723641253d1ab"
   }
  }
 },
 "nbformat": 4,
 "nbformat_minor": 2
}
