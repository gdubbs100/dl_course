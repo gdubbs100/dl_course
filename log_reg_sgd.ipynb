{
 "cells": [
  {
   "cell_type": "code",
   "execution_count": 1,
   "metadata": {},
   "outputs": [],
   "source": [
    "import numpy as np\n",
    "from sklearn.datasets import make_classification\n",
    "import pandas as pd\n",
    "import matplotlib.pyplot as plt"
   ]
  },
  {
   "cell_type": "code",
   "execution_count": 7,
   "metadata": {},
   "outputs": [
    {
     "name": "stdout",
     "output_type": "stream",
     "text": [
      "(100, 2) (100,)\n"
     ]
    }
   ],
   "source": [
    "data = make_classification(n_samples = 100, n_features = 2, n_classes = 2, n_redundant=0)\n",
    "X = data[0]\n",
    "y = data[1]\n",
    "print(X.shape, y.shape)"
   ]
  },
  {
   "cell_type": "code",
   "execution_count": 2,
   "metadata": {},
   "outputs": [],
   "source": [
    "\n",
    "\n",
    "def sigmoid(z):\n",
    "    return 1 / (1 + np.exp(-z))\n",
    "\n",
    "def calcGrad(actual, pred):\n",
    "    return pred - actual\n",
    "\n"
   ]
  },
  {
   "cell_type": "code",
   "execution_count": 306,
   "metadata": {},
   "outputs": [
    {
     "name": "stdout",
     "output_type": "stream",
     "text": [
      "[1 1 1 1 1 1 1 1 1 1 1 1 1 1 1 1 1 1 1 1 1 1 1 1 1 1 1 1 1 1 1 1 1 1 1 1 1\n",
      " 1 1 1 1 1 1 1 1 1 1 1 1 1 0 0 0 0 0 0 0 0 0 0 0 0 0 0 0 0 0 0 0 0 0 0 0 0\n",
      " 0 0 0 0 0 0 0 0 0 0 0 0 0 0 0 0 0 0 0 0 0 0 0 0 0 0 0 0 0 0 0 0 0 0 0 0 0\n",
      " 0 0 0 0 0 0 0 0 0 0 0 0 0 0 0 0 0 0 0 0 0 0 0 0 0 0 0 0 0 0 0 0 0 0 0 0 0\n",
      " 0 0] (150, 4)\n"
     ]
    }
   ],
   "source": [
    "from sklearn import datasets\n",
    "from sklearn.preprocessing import StandardScaler\n",
    "\n",
    "iris = datasets.load_iris()\n",
    "X = StandardScaler().fit_transform(iris[\"data\"])\n",
    "y = (iris[\"target\"] == 0).astype(np.int64)\n",
    "print(y, X.shape)"
   ]
  },
  {
   "cell_type": "code",
   "execution_count": 307,
   "metadata": {},
   "outputs": [
    {
     "name": "stdout",
     "output_type": "stream",
     "text": [
      "(4,) (1, 4) [0.4898372]\n",
      "[0.31370484]\n"
     ]
    }
   ],
   "source": [
    "print(X[1,].shape, w.shape, 1/ (1 + np.exp(-(np.dot(w, X[1,].T) + b))))\n",
    "print(sigmoid(7.7 * -0.3020915 + 3 *0.19960663+6.1*0.36191744+2.3*-0.5435986 + b))"
   ]
  },
  {
   "cell_type": "code",
   "execution_count": 353,
   "metadata": {},
   "outputs": [
    {
     "name": "stdout",
     "output_type": "stream",
     "text": [
      "[[-0.35587909  0.35212242  0.20692168  0.15856424]] [-0.57596817]\n",
      "[[ 0.30947666  0.01687354 -0.6482898   0.30444221]] [-0.69929457]\n"
     ]
    }
   ],
   "source": [
    "# initialise values\n",
    "w = np.random.randn(1, X.shape[1])\n",
    "b = np.random.randn(1)\n",
    "lr = 0.003\n",
    "epochs = 300000\n",
    "print(w, b)\n",
    "records = np.zeros((epochs, X.shape[1] + 1))\n",
    "records[0,:] = np.hstack([w.flatten(), b])\n",
    "\n",
    "for i in range(epochs):\n",
    "\n",
    "    # shuffle array\n",
    "    # np.random.shuffle(X)\n",
    "\n",
    "    # predict\n",
    "    z = sigmoid(np.dot(w, X.T) + b)\n",
    "\n",
    "    # calc gradient\n",
    "    dz = calcGrad(y, z)\n",
    "    dw = np.dot(X.T,  dz.T) / 150\n",
    "    db = np.sum(dz) / 150\n",
    "    # print(dz.shape, dw.shape, db.shape)\n",
    "    # update values\n",
    "    w += -lr * dw.T\n",
    "    b += -lr * db\n",
    "\n",
    "    records[i,:] = np.hstack([w.flatten(), b])\n",
    "\n",
    "\n",
    "print(w, b)\n"
   ]
  },
  {
   "cell_type": "code",
   "execution_count": 351,
   "metadata": {},
   "outputs": [
    {
     "name": "stdout",
     "output_type": "stream",
     "text": [
      "Optimization terminated successfully.\n",
      "         Current function value: 0.632289\n",
      "         Iterations 5\n",
      "                           Logit Regression Results                           \n",
      "==============================================================================\n",
      "Dep. Variable:                      y   No. Observations:                  150\n",
      "Model:                          Logit   Df Residuals:                      145\n",
      "Method:                           MLE   Df Model:                            4\n",
      "Date:                Sat, 05 Nov 2022   Pseudo R-squ.:                0.006639\n",
      "Time:                        10:44:01   Log-Likelihood:                -94.843\n",
      "converged:                       True   LL-Null:                       -95.477\n",
      "Covariance Type:            nonrobust   LLR p-value:                    0.8668\n",
      "==============================================================================\n",
      "                 coef    std err          z      P>|z|      [0.025      0.975]\n",
      "------------------------------------------------------------------------------\n",
      "const         -0.6994      0.174     -4.013      0.000      -1.041      -0.358\n",
      "x1             0.3139      0.466      0.674      0.501      -0.600       1.227\n",
      "x2             0.0148      0.252      0.059      0.953      -0.480       0.509\n",
      "x3            -0.6620      0.979     -0.676      0.499      -2.581       1.257\n",
      "x4             0.3133      0.701      0.447      0.655      -1.060       1.687\n",
      "==============================================================================\n"
     ]
    }
   ],
   "source": [
    "import statsmodels.api as sm\n",
    "\n",
    "X_intercept = np.hstack([np.ones(( X.shape[0], 1)),X])\n",
    "\n",
    "log_reg = sm.Logit(y, X_intercept).fit()\n",
    "\n",
    "print(log_reg.summary())"
   ]
  },
  {
   "cell_type": "code",
   "execution_count": 326,
   "metadata": {},
   "outputs": [
    {
     "name": "stdout",
     "output_type": "stream",
     "text": [
      "[[-1.36507114  0.33518742  1.95423232 -0.4026498 ]] [-0.74402127]\n"
     ]
    }
   ],
   "source": [
    "from sklearn.linear_model import LogisticRegression\n",
    "\n",
    "log_reg = LogisticRegression(random_state = 1, max_iter = 99999,fit_intercept = True, penalty = 'none')\n",
    "log_reg.fit(X, y)\n",
    "print(log_reg.coef_, log_reg.intercept_)\n"
   ]
  },
  {
   "cell_type": "code",
   "execution_count": 352,
   "metadata": {},
   "outputs": [
    {
     "data": {
      "text/plain": [
       "<AxesSubplot:>"
      ]
     },
     "execution_count": 352,
     "metadata": {},
     "output_type": "execute_result"
    },
    {
     "data": {
      "image/png": "[encoded data removed]",
      "text/plain": [
       "<Figure size 432x288 with 1 Axes>"
      ]
     },
     "metadata": {
      "needs_background": "light"
     },
     "output_type": "display_data"
    }
   ],
   "source": [
    "df = pd.DataFrame(records).rename(columns = {0:'w1', 1:'w2', 2:'w3', 3: \"w4\", 4: \"b\"})\n",
    "\n",
    "df.plot()"
   ]
  }
 ],
 "metadata": {
  "kernelspec": {
   "display_name": "Python 3.9.7",
   "language": "python",
   "name": "python3"
  },
  "language_info": {
   "codemirror_mode": {
    "name": "ipython",
    "version": 3
   },
   "file_extension": ".py",
   "mimetype": "text/x-python",
   "name": "python",
   "nbconvert_exporter": "python",
   "pygments_lexer": "ipython3",
   "version": "3.9.7"
  },
  "orig_nbformat": 4,
  "vscode": {
   "interpreter": {
    "hash": "35643e8013a8986bd707b2979c5c936bcf5bc6379996007802b723641253d1ab"
   }
  }
 },
 "nbformat": 4,
 "nbformat_minor": 2
}
